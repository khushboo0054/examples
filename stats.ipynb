{
 "cells": [
  {
   "cell_type": "code",
   "execution_count": 1,
   "id": "ea8c379b",
   "metadata": {},
   "outputs": [],
   "source": [
    "import numpy as np\n"
   ]
  },
  {
   "cell_type": "code",
   "execution_count": 3,
   "id": "d30cb3c0",
   "metadata": {},
   "outputs": [
    {
     "data": {
      "text/plain": [
       "3.0"
      ]
     },
     "execution_count": 3,
     "metadata": {},
     "output_type": "execute_result"
    }
   ],
   "source": [
    "x=[1,2,3,4,5]\n",
    "y=[1,2,3,4,5,500]\n",
    "a=np.array(x)\n",
    "a.mean()"
   ]
  },
  {
   "cell_type": "code",
   "execution_count": 4,
   "id": "0cd80f47",
   "metadata": {},
   "outputs": [],
   "source": [
    "b=np.array(y)"
   ]
  },
  {
   "cell_type": "code",
   "execution_count": 5,
   "id": "9c9a4089",
   "metadata": {},
   "outputs": [
    {
     "data": {
      "text/plain": [
       "85.83333333333333"
      ]
     },
     "execution_count": 5,
     "metadata": {},
     "output_type": "execute_result"
    }
   ],
   "source": [
    "b.mean()"
   ]
  },
  {
   "cell_type": "code",
   "execution_count": 6,
   "id": "14c52acb",
   "metadata": {},
   "outputs": [
    {
     "data": {
      "text/plain": [
       "30.193"
      ]
     },
     "execution_count": 6,
     "metadata": {},
     "output_type": "execute_result"
    }
   ],
   "source": [
    "rain=[21.2,21,98,25,22.8,22.1,20.8,24.7,24.33,22]\n",
    "np.mean(rain)"
   ]
  },
  {
   "cell_type": "code",
   "execution_count": 8,
   "id": "226bdb2e",
   "metadata": {},
   "outputs": [
    {
     "data": {
      "text/plain": [
       "22.65888888888889"
      ]
     },
     "execution_count": 8,
     "metadata": {},
     "output_type": "execute_result"
    }
   ],
   "source": [
    "rain2=[21.2,21,25,22.8,22.1,20.8,24.7,24.33,22]\n",
    "np.mean(rain2)"
   ]
  },
  {
   "cell_type": "code",
   "execution_count": 7,
   "id": "9e35255d",
   "metadata": {},
   "outputs": [
    {
     "data": {
      "text/plain": [
       "22.450000000000003"
      ]
     },
     "execution_count": 7,
     "metadata": {},
     "output_type": "execute_result"
    }
   ],
   "source": [
    "np.median(rain)"
   ]
  },
  {
   "cell_type": "code",
   "execution_count": 9,
   "id": "30ee3de9",
   "metadata": {},
   "outputs": [
    {
     "data": {
      "text/plain": [
       "22.1"
      ]
     },
     "execution_count": 9,
     "metadata": {},
     "output_type": "execute_result"
    }
   ],
   "source": [
    "np.median(rain2)"
   ]
  },
  {
   "cell_type": "code",
   "execution_count": 17,
   "id": "25362512",
   "metadata": {},
   "outputs": [
    {
     "data": {
      "text/plain": [
       "2.0"
      ]
     },
     "execution_count": 17,
     "metadata": {},
     "output_type": "execute_result"
    }
   ],
   "source": [
    "np.quantile(x,0.25)"
   ]
  },
  {
   "cell_type": "code",
   "execution_count": 18,
   "id": "b4d34647",
   "metadata": {},
   "outputs": [
    {
     "data": {
      "text/plain": [
       "3.0"
      ]
     },
     "execution_count": 18,
     "metadata": {},
     "output_type": "execute_result"
    }
   ],
   "source": [
    "np.quantile(x,0.5)"
   ]
  },
  {
   "cell_type": "code",
   "execution_count": 16,
   "id": "2fc98391",
   "metadata": {},
   "outputs": [
    {
     "data": {
      "text/plain": [
       "4.0"
      ]
     },
     "execution_count": 16,
     "metadata": {},
     "output_type": "execute_result"
    }
   ],
   "source": [
    "np.quantile(x,0.75)"
   ]
  },
  {
   "cell_type": "code",
   "execution_count": 10,
   "id": "9bca3359",
   "metadata": {},
   "outputs": [],
   "source": [
    "import pandas as pd"
   ]
  },
  {
   "cell_type": "code",
   "execution_count": 12,
   "id": "bab36f8f",
   "metadata": {},
   "outputs": [],
   "source": [
    "daily_sal=pd.Series([212,121,398,245,228,275,208,212,293,275,190,514,275,322,312])"
   ]
  },
  {
   "cell_type": "code",
   "execution_count": 13,
   "id": "e69b9c25",
   "metadata": {},
   "outputs": [
    {
     "name": "stdout",
     "output_type": "stream",
     "text": [
      "Mode: 0    275\n",
      "dtype: int64\n"
     ]
    }
   ],
   "source": [
    "print('Mode:',daily_sal.mode())"
   ]
  },
  {
   "cell_type": "code",
   "execution_count": 19,
   "id": "56557118",
   "metadata": {},
   "outputs": [
    {
     "data": {
      "text/plain": [
       "212.0"
      ]
     },
     "execution_count": 19,
     "metadata": {},
     "output_type": "execute_result"
    }
   ],
   "source": [
    "daily_sal.quantile(0.25)"
   ]
  },
  {
   "cell_type": "code",
   "execution_count": 20,
   "id": "8ecea2bc",
   "metadata": {},
   "outputs": [
    {
     "data": {
      "text/plain": [
       "275.0"
      ]
     },
     "execution_count": 20,
     "metadata": {},
     "output_type": "execute_result"
    }
   ],
   "source": [
    "daily_sal.quantile(0.5)"
   ]
  },
  {
   "cell_type": "code",
   "execution_count": 21,
   "id": "8ca53678",
   "metadata": {},
   "outputs": [
    {
     "data": {
      "text/plain": [
       "302.5"
      ]
     },
     "execution_count": 21,
     "metadata": {},
     "output_type": "execute_result"
    }
   ],
   "source": [
    "daily_sal.quantile(0.75)"
   ]
  },
  {
   "cell_type": "code",
   "execution_count": 22,
   "id": "74b3ac07",
   "metadata": {},
   "outputs": [
    {
     "data": {
      "text/plain": [
       "2.25"
      ]
     },
     "execution_count": 22,
     "metadata": {},
     "output_type": "execute_result"
    }
   ],
   "source": [
    "np.quantile(y,0.25)"
   ]
  },
  {
   "cell_type": "code",
   "execution_count": 27,
   "id": "8b2b2adb",
   "metadata": {},
   "outputs": [
    {
     "data": {
      "text/plain": [
       "2.8"
      ]
     },
     "execution_count": 27,
     "metadata": {},
     "output_type": "execute_result"
    }
   ],
   "source": [
    "z=[1,2,3,4,5,6,7,8,9,10]\n",
    "np.quantile(z,0.20)"
   ]
  },
  {
   "cell_type": "code",
   "execution_count": 28,
   "id": "d08026bd",
   "metadata": {},
   "outputs": [
    {
     "data": {
      "text/plain": [
       "4"
      ]
     },
     "execution_count": 28,
     "metadata": {},
     "output_type": "execute_result"
    }
   ],
   "source": [
    "np.max(x)-np.min(x)"
   ]
  },
  {
   "cell_type": "code",
   "execution_count": 29,
   "id": "fbc765a4",
   "metadata": {},
   "outputs": [
    {
     "data": {
      "text/plain": [
       "2.0"
      ]
     },
     "execution_count": 29,
     "metadata": {},
     "output_type": "execute_result"
    }
   ],
   "source": [
    "np.var(x)"
   ]
  },
  {
   "cell_type": "code",
   "execution_count": 31,
   "id": "a7756256",
   "metadata": {},
   "outputs": [
    {
     "data": {
      "text/plain": [
       "1.4142135623730951"
      ]
     },
     "execution_count": 31,
     "metadata": {},
     "output_type": "execute_result"
    }
   ],
   "source": [
    "np.std(x)"
   ]
  },
  {
   "cell_type": "code",
   "execution_count": 30,
   "id": "2b7b921c",
   "metadata": {},
   "outputs": [
    {
     "data": {
      "text/plain": [
       "409.84"
      ]
     },
     "execution_count": 30,
     "metadata": {},
     "output_type": "execute_result"
    }
   ],
   "source": [
    "z=[10,8,6,4,2]\n",
    "np.var(z)"
   ]
  },
  {
   "cell_type": "code",
   "execution_count": 32,
   "id": "175b431e",
   "metadata": {},
   "outputs": [
    {
     "data": {
      "text/plain": [
       "20.244505427399307"
      ]
     },
     "execution_count": 32,
     "metadata": {},
     "output_type": "execute_result"
    }
   ],
   "source": [
    "np.std(z)"
   ]
  },
  {
   "cell_type": "code",
   "execution_count": 33,
   "id": "ea07c007",
   "metadata": {},
   "outputs": [
    {
     "data": {
      "text/plain": [
       "3.0"
      ]
     },
     "execution_count": 33,
     "metadata": {},
     "output_type": "execute_result"
    }
   ],
   "source": [
    "np.mean(x)"
   ]
  },
  {
   "cell_type": "code",
   "execution_count": 35,
   "id": "743fa321",
   "metadata": {},
   "outputs": [
    {
     "data": {
      "text/plain": [
       "28.6"
      ]
     },
     "execution_count": 35,
     "metadata": {},
     "output_type": "execute_result"
    }
   ],
   "source": [
    "np.mean(z)"
   ]
  },
  {
   "cell_type": "code",
   "execution_count": 36,
   "id": "62ea6f32",
   "metadata": {},
   "outputs": [
    {
     "data": {
      "text/plain": [
       "array([[  2.5 ,  33.75],\n",
       "       [ 33.75, 512.3 ]])"
      ]
     },
     "execution_count": 36,
     "metadata": {},
     "output_type": "execute_result"
    }
   ],
   "source": [
    "np.cov(x,z)"
   ]
  },
  {
   "cell_type": "code",
   "execution_count": null,
   "id": "3e650138",
   "metadata": {},
   "outputs": [],
   "source": []
  }
 ],
 "metadata": {
  "kernelspec": {
   "display_name": "Python 3 (ipykernel)",
   "language": "python",
   "name": "python3"
  },
  "language_info": {
   "codemirror_mode": {
    "name": "ipython",
    "version": 3
   },
   "file_extension": ".py",
   "mimetype": "text/x-python",
   "name": "python",
   "nbconvert_exporter": "python",
   "pygments_lexer": "ipython3",
   "version": "3.9.7"
  }
 },
 "nbformat": 4,
 "nbformat_minor": 5
}
